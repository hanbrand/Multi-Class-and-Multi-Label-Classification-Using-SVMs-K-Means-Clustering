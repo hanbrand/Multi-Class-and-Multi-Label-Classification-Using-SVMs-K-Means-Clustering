{
 "cells": [
  {
   "cell_type": "markdown",
   "metadata": {},
   "source": [
    "<center><h1>Han_Brandon_HW7</h1></center>"
   ]
  },
  {
   "cell_type": "markdown",
   "metadata": {},
   "source": [
    "Name: Brandon Han\n",
    "<br>\n",
    "Github Username: hanbrand\n",
    "<br>\n",
    "USC ID: 7263220420"
   ]
  },
  {
   "cell_type": "markdown",
   "metadata": {},
   "source": [
    "## 1. Multi-class and Multi-Label Classification Using Support Vector Machines"
   ]
  },
  {
   "cell_type": "markdown",
   "metadata": {},
   "source": [
    "Import packages"
   ]
  },
  {
   "cell_type": "code",
   "execution_count": 168,
   "metadata": {},
   "outputs": [],
   "source": [
    "import pandas as pd\n",
    "from sklearn.model_selection import train_test_split\n",
    "from sklearn.metrics import accuracy_score, hamming_loss\n",
    "from sklearn.svm import SVC\n",
    "from sklearn.model_selection import GridSearchCV\n",
    "from sklearn.cluster import KMeans\n",
    "import numpy as np\n",
    "from sklearn.preprocessing import LabelEncoder\n",
    "from imblearn.over_sampling import SMOTE\n",
    "from sklearn.svm import LinearSVC\n",
    "from sklearn.preprocessing import StandardScaler\n",
    "from sklearn.cluster import KMeans\n",
    "import matplotlib.pyplot as plt\n",
    "from scipy.cluster.hierarchy import linkage, dendrogram\n",
    "from scipy.cluster.hierarchy import fcluster"
   ]
  },
  {
   "cell_type": "markdown",
   "metadata": {},
   "source": [
    "### (a) Download the Anuran Calls (MFCCs) Data Set"
   ]
  },
  {
   "cell_type": "code",
   "execution_count": 153,
   "metadata": {},
   "outputs": [
    {
     "name": "stdout",
     "output_type": "stream",
     "text": [
      "Aligned X_train shape: (5036, 20)\n",
      "Aligned X_test shape: (2159, 20)\n",
      "Processing SMOTE for Family...\n",
      "Processing SMOTE for Genus...\n",
      "Processing SMOTE for Species...\n",
      "Balanced training data shape (features): (59954, 20)\n",
      "Balanced training data shape (labels): (24470, 3)\n"
     ]
    }
   ],
   "source": [
    "file_path = \"../data/Anuran Calls (MFCCs)/Frogs_MFCCs.csv\"\n",
    "data = pd.read_csv(file_path)\n",
    "\n",
    "# Load Features and Labels\n",
    "X_train = data.iloc[:, :20]  # First 20 columns are features\n",
    "y = data[['Family', 'Genus', 'Species']]  # Target Labels\n",
    "\n",
    "# Align X_train and y based on their index\n",
    "X_train, y = X_train.align(y, join='inner', axis=0)\n",
    "\n",
    "# Split the data into train and test sets (70% train, 30% test)\n",
    "from sklearn.model_selection import train_test_split\n",
    "X_train, X_test, y_train, y_test = train_test_split(X_train, y, test_size=0.3, random_state=42)\n",
    "\n",
    "# Align X_train and X_test columns to ensure they match\n",
    "X_train, X_test = X_train.align(X_test, join='inner', axis=1)\n",
    "\n",
    "# Verify the alignment\n",
    "print(\"Aligned X_train shape:\", X_train.shape)\n",
    "print(\"Aligned X_test shape:\", X_test.shape)\n",
    "\n",
    "# Initialize SMOTE for handling imbalanced data\n",
    "X_train_balanced, y_train_balanced = None, None\n",
    "\n",
    "for label in y_train.columns:\n",
    "    print(f\"Processing SMOTE for {label}...\")\n",
    "    y_train_label = y_train[label].values  # Extract current label\n",
    "\n",
    "    # Check alignment\n",
    "    if X_train.shape[0] != len(y_train_label):\n",
    "        print(f\"Skipping SMOTE for {label} due to misaligned shapes: X_train ({X_train.shape}), y_train_label ({len(y_train_label)})\")\n",
    "        continue\n",
    "\n",
    "    # Determine minority class size and initialize SMOTE\n",
    "    class_counts = pd.Series(y_train_label).value_counts()\n",
    "    minority_class_count = class_counts.min()\n",
    "    k_neighbors = max(1, min(2, minority_class_count - 1))  # Ensure k_neighbors >= 1\n",
    "    smote = SMOTE(random_state=42, k_neighbors=k_neighbors)\n",
    "\n",
    "    try:\n",
    "        X_resampled, y_resampled = smote.fit_resample(X_train, y_train_label)\n",
    "\n",
    "        # Combine features and labels for the current label\n",
    "        if X_train_balanced is None:\n",
    "            X_train_balanced = X_resampled\n",
    "            y_train_balanced = pd.DataFrame(y_resampled, columns=[label])\n",
    "        else:\n",
    "            # Align feature matrix and label matrix dimensions\n",
    "            X_train_balanced = np.vstack([X_train_balanced, X_resampled])\n",
    "            y_resampled_df = pd.DataFrame(y_resampled, columns=[label])\n",
    "            y_train_balanced = pd.concat([y_train_balanced, y_resampled_df.reset_index(drop=True)], axis=1)\n",
    "\n",
    "    except ValueError as e:\n",
    "        print(f\"Skipping SMOTE for label '{label}' due to insufficient samples or other errors: {e}\")\n",
    "\n",
    "# Handle the case where no labels were processed\n",
    "if X_train_balanced is None:\n",
    "    print(\"SMOTE could not balance any labels. Check the input dimensions or class distributions.\")\n",
    "    X_train_balanced = np.array([])\n",
    "    y_train_balanced = pd.DataFrame()\n",
    "\n",
    "# Final verification\n",
    "print(\"Balanced training data shape (features):\", None if len(X_train_balanced) == 0 else X_train_balanced.shape)\n",
    "print(\"Balanced training data shape (labels):\", y_train_balanced.shape)"
   ]
  },
  {
   "cell_type": "markdown",
   "metadata": {},
   "source": [
    "### (b) Train a classifier for each label"
   ]
  },
  {
   "cell_type": "markdown",
   "metadata": {},
   "source": [
    "#### (i) Research"
   ]
  },
  {
   "cell_type": "markdown",
   "metadata": {},
   "source": []
  },
  {
   "cell_type": "markdown",
   "metadata": {},
   "source": [
    "#### (ii) Train a SVM for each of the labels"
   ]
  },
  {
   "cell_type": "code",
   "execution_count": 154,
   "metadata": {
    "scrolled": true
   },
   "outputs": [
    {
     "name": "stdout",
     "output_type": "stream",
     "text": [
      "Training SVM for Family...\n",
      "Best Parameters for Family: {'C': 100, 'gamma': 1, 'kernel': 'rbf'}\n",
      "Test Accuracy for Family: 0.9917\n",
      "Training SVM for Genus...\n",
      "Best Parameters for Genus: {'C': 10, 'gamma': 1, 'kernel': 'rbf'}\n",
      "Test Accuracy for Genus: 0.9889\n",
      "Training SVM for Species...\n",
      "Best Parameters for Species: {'C': 100, 'gamma': 1, 'kernel': 'rbf'}\n",
      "Test Accuracy for Species: 0.9898\n",
      "\n",
      "Final Results:\n",
      "Family:\n",
      "  Best Parameters: {'C': 100, 'gamma': 1, 'kernel': 'rbf'}\n",
      "  Test Accuracy: 0.9917\n",
      "Genus:\n",
      "  Best Parameters: {'C': 10, 'gamma': 1, 'kernel': 'rbf'}\n",
      "  Test Accuracy: 0.9889\n",
      "Species:\n",
      "  Best Parameters: {'C': 100, 'gamma': 1, 'kernel': 'rbf'}\n",
      "  Test Accuracy: 0.9898\n"
     ]
    }
   ],
   "source": [
    "# Parameter grid for GridSearchCV\n",
    "param_grid = {\n",
    "    'C': [0.1, 1, 10, 100],\n",
    "    'gamma': [0.001, 0.01, 0.1, 1],\n",
    "    'kernel': ['rbf']\n",
    "}\n",
    "\n",
    "# Dictionary to store best models and results\n",
    "best_models = {}\n",
    "results = {}\n",
    "\n",
    "# Train an SVM for each label\n",
    "for label in y_train.columns:\n",
    "    print(f\"Training SVM for {label}...\")\n",
    "    \n",
    "    # Define the SVM model\n",
    "    svm = SVC()\n",
    "    \n",
    "    # Perform GridSearchCV\n",
    "    grid_search = GridSearchCV(svm, param_grid, cv=10, scoring='accuracy', n_jobs=-1)\n",
    "    grid_search.fit(X_train, y_train[label])\n",
    "    \n",
    "    # Get the best model and hyperparameters\n",
    "    best_models[label] = grid_search.best_estimator_\n",
    "    best_params = grid_search.best_params_\n",
    "    \n",
    "    # Test accuracy on X_test\n",
    "    y_pred = best_models[label].predict(X_test)\n",
    "    accuracy = accuracy_score(y_test[label], y_pred)\n",
    "    \n",
    "    # Store the results\n",
    "    results[label] = {\n",
    "        'Best Parameters': best_params,\n",
    "        'Test Accuracy': accuracy\n",
    "    }\n",
    "    \n",
    "    print(f\"Best Parameters for {label}: {best_params}\")\n",
    "    print(f\"Test Accuracy for {label}: {accuracy:.4f}\")\n",
    "\n",
    "# Display the results for all labels\n",
    "print(\"\\nFinal Results:\")\n",
    "for label, result in results.items():\n",
    "    print(f\"{label}:\")\n",
    "    print(f\"  Best Parameters: {result['Best Parameters']}\")\n",
    "    print(f\"  Test Accuracy: {result['Test Accuracy']:.4f}\")"
   ]
  },
  {
   "attachments": {},
   "cell_type": "markdown",
   "metadata": {},
   "source": [
    "#### (iii) Repeat 1(b)ii with L1-penalized SVMs"
   ]
  },
  {
   "cell_type": "code",
   "execution_count": 155,
   "metadata": {},
   "outputs": [
    {
     "name": "stdout",
     "output_type": "stream",
     "text": [
      "Best Parameters for Species: {'C': 100}\n",
      "Test Accuracy for Species: 0.9541\n"
     ]
    }
   ],
   "source": [
    "# Standardize the data\n",
    "scaler = StandardScaler()\n",
    "X_train_scaled = scaler.fit_transform(X_train)\n",
    "X_test_scaled = scaler.transform(X_test)\n",
    "\n",
    "# Update the parameter grid for better tuning\n",
    "param_grid_l1 = {\n",
    "    'C': [0.01, 0.1, 1, 10, 100]\n",
    "}\n",
    "\n",
    "# Define the L1-penalized SVM model with a higher max_iter\n",
    "svm_l1 = LinearSVC(penalty='l1', dual=False, random_state=42, max_iter=100000)\n",
    "\n",
    "# Perform GridSearchCV\n",
    "grid_search_l1 = GridSearchCV(svm_l1, param_grid_l1, cv=10, scoring='accuracy', n_jobs=-1)\n",
    "grid_search_l1.fit(X_train_scaled, y_train[label])\n",
    "\n",
    "# Get the best model and hyperparameters\n",
    "best_model_l1 = grid_search_l1.best_estimator_\n",
    "best_params_l1 = grid_search_l1.best_params_\n",
    "\n",
    "# Test accuracy on X_test_scaled\n",
    "y_pred_l1 = best_model_l1.predict(X_test_scaled)\n",
    "accuracy_l1 = accuracy_score(y_test[label], y_pred_l1)\n",
    "\n",
    "print(f\"Best Parameters for {label}: {best_params_l1}\")\n",
    "print(f\"Test Accuracy for {label}: {accuracy_l1:.4f}\")"
   ]
  },
  {
   "attachments": {},
   "cell_type": "markdown",
   "metadata": {},
   "source": [
    "#### (iv) Repeat 1(b)iii by using SMOTE or any other method for imbalance"
   ]
  },
  {
   "cell_type": "code",
   "execution_count": 156,
   "metadata": {},
   "outputs": [
    {
     "name": "stdout",
     "output_type": "stream",
     "text": [
      "Applying SMOTE for Family...\n",
      "Applying SMOTE for Genus...\n",
      "Applying SMOTE for Species...\n",
      "Final balanced training data shape (features): (59954, 20)\n",
      "Final balanced training data shape (labels): (24470, 3)\n"
     ]
    }
   ],
   "source": [
    "# Initialize variables to store the balanced data\n",
    "X_train_balanced_smote = None\n",
    "y_train_balanced_smote = None\n",
    "\n",
    "# Apply SMOTE for each label\n",
    "for label in y_train.columns:\n",
    "    print(f\"Applying SMOTE for {label}...\")\n",
    "    \n",
    "    # Extract the specific target column for the current label\n",
    "    y_train_label = y_train[label].values  # Convert to 1D array\n",
    "    \n",
    "    try:\n",
    "        # Apply SMOTE for the current label\n",
    "        X_resampled, y_resampled = smote.fit_resample(X_train, y_train_label)\n",
    "        \n",
    "        # Combine resampled features and labels for the current label\n",
    "        if X_train_balanced_smote is None:\n",
    "            X_train_balanced_smote = X_resampled\n",
    "            y_train_balanced_smote = pd.DataFrame(y_resampled, columns=[label])\n",
    "        else:\n",
    "            X_train_balanced_smote = np.vstack((X_train_balanced_smote, X_resampled))\n",
    "            y_resampled_df = pd.DataFrame(y_resampled, columns=[label])\n",
    "            y_train_balanced_smote = pd.concat([y_train_balanced_smote, y_resampled_df.reset_index(drop=True)], axis=1)\n",
    "            \n",
    "    except ValueError as e:\n",
    "        print(f\"Skipping SMOTE for {label} due to insufficient samples or other errors: {e}\")\n",
    "\n",
    "# Final verification of shapes\n",
    "print(\"Final balanced training data shape (features):\", X_train_balanced_smote.shape)\n",
    "print(\"Final balanced training data shape (labels):\", y_train_balanced_smote.shape)\n"
   ]
  },
  {
   "cell_type": "code",
   "execution_count": 157,
   "metadata": {},
   "outputs": [
    {
     "name": "stdout",
     "output_type": "stream",
     "text": [
      "Applying SMOTE for Family...\n",
      "Skipping SMOTE for Family due to insufficient samples or errors: Length of values (12292) does not match length of index (5036)\n",
      "Applying SMOTE for Genus...\n",
      "Applying SMOTE for Species...\n",
      "Feature matrix shape after SMOTE: (59954, 20)\n",
      "Label matrix shape after SMOTE: (5036, 3)\n",
      "\n",
      "Applying SMOTE for Family...\n",
      "Resampled data shape: X=(12292, 20), y=(12292,)\n",
      "Training SVM (RBF kernel) for Family...\n"
     ]
    },
    {
     "name": "stderr",
     "output_type": "stream",
     "text": [
      "C:\\Users\\Brandon\\AppData\\Local\\Programs\\Python\\Python312\\Lib\\site-packages\\sklearn\\base.py:486: UserWarning: X has feature names, but StandardScaler was fitted without feature names\n",
      "  warnings.warn(\n"
     ]
    },
    {
     "name": "stdout",
     "output_type": "stream",
     "text": [
      "Completed training for Family. Test Accuracy: 0.9972\n",
      "\n",
      "Applying SMOTE for Genus...\n",
      "Resampled data shape: X=(23192, 20), y=(23192,)\n",
      "Training SVM (RBF kernel) for Genus...\n",
      "Completed training for Genus. Test Accuracy: 0.9992\n",
      "\n",
      "Applying SMOTE for Species...\n",
      "Resampled data shape: X=(24470, 20), y=(24470,)\n",
      "Training SVM (RBF kernel) for Species...\n",
      "Completed training for Species. Test Accuracy: 0.9994\n",
      "\n",
      "Summary of Results:\n",
      "             Best Parameters (RBF) Test Accuracy (RBF)\n",
      "Family     {'C': 10, 'gamma': 0.1}            0.997153\n",
      "Genus      {'C': 10, 'gamma': 0.1}            0.999181\n",
      "Species  {'C': 100, 'gamma': 0.01}            0.999387\n"
     ]
    }
   ],
   "source": [
    "# Initialize variables for balanced data\n",
    "X_train_balanced_smote = None\n",
    "y_train_balanced_smote = pd.DataFrame(index=X_train.index)  # Initialize DataFrame with correct index\n",
    "\n",
    "# Apply SMOTE for each label\n",
    "for label in y_train.columns:\n",
    "    print(f\"Applying SMOTE for {label}...\")\n",
    "    y_train_label = y_train[label].values.flatten()  # Convert to 1D array\n",
    "\n",
    "    try:\n",
    "        # Apply SMOTE for the current label\n",
    "        X_resampled, y_resampled = smote.fit_resample(X_train, y_train_label)\n",
    "\n",
    "        # Combine resampled data\n",
    "        if X_train_balanced_smote is None:\n",
    "            X_train_balanced_smote = X_resampled\n",
    "            y_train_balanced_smote[label] = y_resampled\n",
    "        else:\n",
    "            X_train_balanced_smote = np.vstack((X_train_balanced_smote, X_resampled))\n",
    "            if label not in y_train_balanced_smote:\n",
    "                y_train_balanced_smote[label] = pd.Series(dtype='int')  # Initialize column if missing\n",
    "            y_train_balanced_smote[label] = pd.concat(\n",
    "                [y_train_balanced_smote[label], pd.Series(y_resampled)], ignore_index=True\n",
    "            )\n",
    "\n",
    "    except ValueError as e:\n",
    "        print(f\"Skipping SMOTE for {label} due to insufficient samples or errors: {e}\")\n",
    "        # Ensure the column exists even if SMOTE fails\n",
    "        if label not in y_train_balanced_smote:\n",
    "            y_train_balanced_smote[label] = pd.Series(y_train[label].values, index=X_train.index)\n",
    "\n",
    "# Verify alignment of features and labels after SMOTE\n",
    "print(\"Feature matrix shape after SMOTE:\", X_train_balanced_smote.shape)\n",
    "print(\"Label matrix shape after SMOTE:\", y_train_balanced_smote.shape)\n",
    "\n",
    "# Scale the features\n",
    "scaler = StandardScaler()\n",
    "X_train_balanced_smote_scaled = scaler.fit_transform(X_train_balanced_smote)\n",
    "X_test_scaled = scaler.transform(X_test)\n",
    "\n",
    "# Train SVM models for each label using SMOTE-balanced dataset\n",
    "# Apply SMOTE for each label\n",
    "results_smote = {}\n",
    "for label in y_train.columns:\n",
    "    print(f\"\\nApplying SMOTE for {label}...\")\n",
    "    \n",
    "    try:\n",
    "        # Prepare the label-specific data\n",
    "        y_train_label = y_train[label].values  # Flatten to 1D array if needed\n",
    "        X_resampled, y_resampled = smote.fit_resample(X_train, y_train_label)\n",
    "        \n",
    "        # Reset indices and ensure alignment\n",
    "        X_resampled = pd.DataFrame(X_resampled).reset_index(drop=True)\n",
    "        y_resampled = pd.Series(y_resampled).reset_index(drop=True)\n",
    "        \n",
    "        print(f\"Resampled data shape: X={X_resampled.shape}, y={y_resampled.shape}\")\n",
    "        \n",
    "        # Scale the data\n",
    "        scaler = StandardScaler()\n",
    "        X_resampled_scaled = scaler.fit_transform(X_resampled)\n",
    "        X_test_scaled = scaler.transform(X_test)\n",
    "        \n",
    "        # Train the SVM model\n",
    "        print(f\"Training SVM (RBF kernel) for {label}...\")\n",
    "        svm_rbf = SVC()\n",
    "        grid_search_rbf = GridSearchCV(\n",
    "            svm_rbf,\n",
    "            param_grid={'C': [0.1, 1, 10, 100], 'gamma': [0.01, 0.1, 1]},\n",
    "            cv=10,\n",
    "            scoring='accuracy',\n",
    "            n_jobs=-1\n",
    "        )\n",
    "        grid_search_rbf.fit(X_resampled_scaled, y_resampled)\n",
    "        \n",
    "        # Save the results\n",
    "        best_model_rbf = grid_search_rbf.best_estimator_\n",
    "        best_params_rbf = grid_search_rbf.best_params_\n",
    "        accuracy_rbf = grid_search_rbf.best_score_\n",
    "        \n",
    "        results_smote[label] = {\n",
    "            'Best Parameters (RBF)': best_params_rbf,\n",
    "            'Test Accuracy (RBF)': accuracy_rbf,\n",
    "        }\n",
    "        print(f\"Completed training for {label}. Test Accuracy: {accuracy_rbf:.4f}\")\n",
    "    \n",
    "    except Exception as e:\n",
    "        print(f\"Error processing {label}: {e}\")\n",
    "\n",
    "# Summary table\n",
    "summary_table = pd.DataFrame(results_smote).T\n",
    "print(\"\\nSummary of Results:\")\n",
    "print(summary_table)\n"
   ]
  },
  {
   "cell_type": "markdown",
   "metadata": {},
   "source": [
    "## 2. K-Means Clustering on a Multi-Class and Multi-Label Data Set"
   ]
  },
  {
   "cell_type": "markdown",
   "metadata": {},
   "source": [
    "### (a) Use k-means clustering"
   ]
  },
  {
   "cell_type": "code",
   "execution_count": 158,
   "metadata": {},
   "outputs": [
    {
     "data": {
      "image/png": "[encoded data removed]",
      "text/plain": [
       "<Figure size 800x500 with 1 Axes>"
      ]
     },
     "metadata": {},
     "output_type": "display_data"
    }
   ],
   "source": [
    "# Define range of cluster numbers\n",
    "k_values = range(1, 11)  # Test k from 1 to 10\n",
    "inertias = []  # List to store inertia values\n",
    "\n",
    "# Compute inertia for each k\n",
    "for k in k_values:\n",
    "    kmeans = KMeans(n_clusters=k, random_state=42)\n",
    "    kmeans.fit(X)  # Fit the model on the data\n",
    "    inertias.append(kmeans.inertia_)\n",
    "\n",
    "# Plot Scree Plot\n",
    "plt.figure(figsize=(8, 5))\n",
    "plt.plot(k_values, inertias, marker='o', linestyle='--')\n",
    "plt.xlabel('Number of Clusters (k)')\n",
    "plt.ylabel('Inertia (Sum of Squared Distances)')\n",
    "plt.title('Scree Plot (Elbow Method)')\n",
    "plt.xticks(k_values)\n",
    "plt.grid()\n",
    "plt.show()"
   ]
  },
  {
   "cell_type": "markdown",
   "metadata": {},
   "source": [
    "### (b) Determine which family is the majority"
   ]
  },
  {
   "cell_type": "code",
   "execution_count": null,
   "metadata": {},
   "outputs": [],
   "source": [
    "# Perform K-Means Clustering with k = 3\n",
    "kmeans = KMeans(n_clusters=3, random_state=42)\n",
    "cluster_labels = kmeans.fit_predict(X_train)\n",
    "\n",
    "# Add cluster labels to the true labels for easier grouping\n",
    "clustered_data = y_train.copy()\n",
    "clustered_data['Cluster'] = cluster_labels\n",
    "\n",
    "# Analyze Cluster Composition\n",
    "for cluster in range(3):  # k=3\n",
    "    print(f\"Cluster {cluster}:\")\n",
    "    cluster_points = clustered_data[clustered_data['Cluster'] == cluster]\n",
    "    \n",
    "    # Majority Family\n",
    "    majority_family = cluster_points['Family'].value_counts().idxmax()\n",
    "    family_count = cluster_points['Family'].value_counts().max()\n",
    "    print(f\"  Majority Family: {majority_family} (Count: {family_count})\")\n",
    "    \n",
    "    # Majority Genus\n",
    "    majority_genus = cluster_points['Genus'].value_counts().idxmax()\n",
    "    genus_count = cluster_points['Genus'].value_counts().max()\n",
    "    print(f\"  Majority Genus: {majority_genus} (Count: {genus_count})\")\n",
    "    \n",
    "    # Majority Species\n",
    "    majority_species = cluster_points['Species'].value_counts().idxmax()\n",
    "    species_count = cluster_points['Species'].value_counts().max()\n",
    "    print(f\"  Majority Species: {majority_species} (Count: {species_count})\")\n",
    "    print()"
   ]
  },
  {
   "cell_type": "markdown",
   "metadata": {},
   "source": [
    "### (c) Calculate the average Hamming distance, Hamming score, and Hamming loss"
   ]
  },
  {
   "cell_type": "code",
   "execution_count": 160,
   "metadata": {},
   "outputs": [
    {
     "name": "stdout",
     "output_type": "stream",
     "text": [
      "Hamming Distances:\n",
      "  Family: 0.2254\n",
      "  Genus: 0.2941\n",
      "  Species: 0.3165\n"
     ]
    }
   ],
   "source": [
    "# Reassign majority labels to each cluster\n",
    "hamming_results = {}\n",
    "for level in ['Family', 'Genus', 'Species']:\n",
    "    hamming_distance = 0\n",
    "    \n",
    "    for cluster in range(3):  # Iterate over clusters\n",
    "        cluster_points = clustered_data[clustered_data['Cluster'] == cluster]\n",
    "        \n",
    "        # Majority label for the current cluster\n",
    "        majority_label = cluster_points[level].value_counts().idxmax()\n",
    "        \n",
    "        # Assign majority label to all points in the cluster\n",
    "        clustered_data.loc[clustered_data['Cluster'] == cluster, f\"Assigned_{level}\"] = majority_label\n",
    "        \n",
    "        # Calculate mismatches (Hamming distance)\n",
    "        mismatches = (cluster_points[level] != majority_label).sum()\n",
    "        hamming_distance += mismatches\n",
    "    \n",
    "    # Normalize Hamming distance by total points\n",
    "    hamming_results[level] = hamming_distance / len(clustered_data)\n",
    "\n",
    "# Print the results\n",
    "print(\"Hamming Distances:\")\n",
    "for level, hamming in hamming_results.items():\n",
    "    print(f\"  {level}: {hamming:.4f}\")\n"
   ]
  },
  {
   "cell_type": "markdown",
   "metadata": {},
   "source": [
    "## 3. ISLR 12.6.2"
   ]
  },
  {
   "cell_type": "markdown",
   "metadata": {},
   "source": [
    "### (a) On the basis of this dissimilarity matrix, sketch the dendrogram that results from hierarchically clustering these four observtions using complete linkage. Be sure to indicate on the plot the height at which each fusion occurs, as well as the observations corresponding to each leaf in the dendrogram."
   ]
  },
  {
   "cell_type": "code",
   "execution_count": 165,
   "metadata": {},
   "outputs": [
    {
     "data": {
      "image/png": "[encoded data removed]",
      "text/plain": [
       "<Figure size 800x600 with 1 Axes>"
      ]
     },
     "metadata": {},
     "output_type": "display_data"
    }
   ],
   "source": [
    "# Dissimilarity matrix (convert to condensed form for linkage)\n",
    "dissimilarity_matrix = np.array([\n",
    "    [0, 0.3, 0.4, 0.7],\n",
    "    [0.3, 0, 0.5, 0.8],\n",
    "    [0.4, 0.5, 0, 0.45],\n",
    "    [0.7, 0.8, 0.45, 0]\n",
    "])\n",
    "condensed_matrix = dissimilarity_matrix[np.triu_indices(4, k=1)]\n",
    "\n",
    "# Perform hierarchical clustering using Complete Linkage\n",
    "complete_linkage = linkage(condensed_matrix, method='complete')\n",
    "\n",
    "# Plot the dendrogram\n",
    "plt.figure(figsize=(8, 6))\n",
    "dendrogram(complete_linkage, labels=['1', '2', '3', '4'], color_threshold=0.5)\n",
    "plt.title(\"Dendrogram (Complete Linkage)\")\n",
    "plt.xlabel(\"Observations\")\n",
    "plt.ylabel(\"Dissimilarity\")\n",
    "plt.show()"
   ]
  },
  {
   "cell_type": "markdown",
   "metadata": {},
   "source": [
    "### (b) Repeat (a), this time using single linkage clustering."
   ]
  },
  {
   "cell_type": "code",
   "execution_count": 166,
   "metadata": {},
   "outputs": [
    {
     "data": {
      "image/png": "[encoded data removed]",
      "text/plain": [
       "<Figure size 800x600 with 1 Axes>"
      ]
     },
     "metadata": {},
     "output_type": "display_data"
    }
   ],
   "source": [
    "# Perform hierarchical clustering using Single Linkage\n",
    "single_linkage = linkage(condensed_matrix, method='single')\n",
    "\n",
    "# Plot the dendrogram\n",
    "plt.figure(figsize=(8, 6))\n",
    "dendrogram(single_linkage, labels=['1', '2', '3', '4'], color_threshold=0.5)\n",
    "plt.title(\"Dendrogram (Single Linkage)\")\n",
    "plt.xlabel(\"Observations\")\n",
    "plt.ylabel(\"Dissimilarity\")\n",
    "plt.show()\n"
   ]
  },
  {
   "cell_type": "markdown",
   "metadata": {},
   "source": [
    "### (c) Suppose that we cut the dendrogram obtained in (a) such that two clusters result. Which observations are in each cluster?"
   ]
  },
  {
   "cell_type": "code",
   "execution_count": 169,
   "metadata": {},
   "outputs": [
    {
     "name": "stdout",
     "output_type": "stream",
     "text": [
      "Complete Linkage Clusters (k=2): [1 1 2 2]\n"
     ]
    }
   ],
   "source": [
    "# Cut the dendrogram at the height that results in 2 clusters\n",
    "complete_clusters = fcluster(complete_linkage, t=2, criterion='maxclust')\n",
    "print(\"Complete Linkage Clusters (k=2):\", complete_clusters)"
   ]
  },
  {
   "cell_type": "markdown",
   "metadata": {},
   "source": [
    "### (d) Suppose that we cut the dendrogram obtained in (b) such that two clusters result. Which observations are in each cluster?"
   ]
  },
  {
   "cell_type": "code",
   "execution_count": 170,
   "metadata": {},
   "outputs": [
    {
     "name": "stdout",
     "output_type": "stream",
     "text": [
      "Single Linkage Clusters (k=2): [1 1 1 2]\n"
     ]
    }
   ],
   "source": [
    "# Cut the dendrogram at the height that results in 2 clusters\n",
    "single_clusters = fcluster(single_linkage, t=2, criterion='maxclust')\n",
    "print(\"Single Linkage Clusters (k=2):\", single_clusters)\n"
   ]
  },
  {
   "cell_type": "markdown",
   "metadata": {},
   "source": [
    "### (e) It is mentioned in the chapter that at each fusion in the dendrogram, the position of the two clusters being fused can be swapped without changing the meaning of the dendrogram. Draw a dendrogram that is equivalent to the dendrogram in (a), for which two or more of the leaves are repositioned, but for which the meaning of the dendrogram is the same."
   ]
  },
  {
   "cell_type": "code",
   "execution_count": 171,
   "metadata": {},
   "outputs": [
    {
     "data": {
      "image/png": "[encoded data removed]",
      "text/plain": [
       "<Figure size 800x600 with 1 Axes>"
      ]
     },
     "metadata": {},
     "output_type": "display_data"
    }
   ],
   "source": [
    "# Reorder leaves manually (swap leaves or nodes) to produce equivalent dendrogram\n",
    "plt.figure(figsize=(8, 6))\n",
    "dendrogram(\n",
    "    complete_linkage,\n",
    "    labels=['3', '4', '1', '2'],  # Example of swapped labels\n",
    "    color_threshold=0.5\n",
    ")\n",
    "plt.title(\"Modified Dendrogram (Complete Linkage)\")\n",
    "plt.xlabel(\"Observations\")\n",
    "plt.ylabel(\"Dissimilarity\")\n",
    "plt.show()\n"
   ]
  },
  {
   "cell_type": "code",
   "execution_count": null,
   "metadata": {},
   "outputs": [],
   "source": []
  }
 ],
 "metadata": {
  "kernelspec": {
   "display_name": "Python 3 (ipykernel)",
   "language": "python",
   "name": "python3"
  },
  "language_info": {
   "codemirror_mode": {
    "name": "ipython",
    "version": 3
   },
   "file_extension": ".py",
   "mimetype": "text/x-python",
   "name": "python",
   "nbconvert_exporter": "python",
   "pygments_lexer": "ipython3",
   "version": "3.12.6"
  },
  "vscode": {
   "interpreter": {
    "hash": "3c20c2d94d2527936fe0f3a300eb11db30fed84423423838e2f93b74eb7aaebc"
   }
  }
 },
 "nbformat": 4,
 "nbformat_minor": 4
}
